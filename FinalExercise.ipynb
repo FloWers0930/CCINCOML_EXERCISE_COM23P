{
  "nbformat": 4,
  "nbformat_minor": 0,
  "metadata": {
    "colab": {
      "provenance": [],
      "include_colab_link": true
    },
    "kernelspec": {
      "name": "python3",
      "display_name": "Python 3"
    },
    "language_info": {
      "name": "python"
    }
  },
  "cells": [
    {
      "cell_type": "markdown",
      "metadata": {
        "id": "view-in-github",
        "colab_type": "text"
      },
      "source": [
        "<a href=\"https://colab.research.google.com/github/FloWers0930/CCINCOML_EXERCISE_COM23P/blob/main/FinalExercise.ipynb\" target=\"_parent\"><img src=\"https://colab.research.google.com/assets/colab-badge.svg\" alt=\"Open In Colab\"/></a>"
      ]
    },
    {
      "cell_type": "markdown",
      "source": [
        "# Final Exercise 🌹\n",
        "\n",
        "Please follow the instructions!\n",
        "\n",
        "<img src=\"https://i.pinimg.com/originals/80/db/e7/80dbe7a37ca3ea65ecac8dace1b599cc.gif\"/>"
      ],
      "metadata": {
        "id": "1lyup4WJ0U88"
      }
    },
    {
      "cell_type": "markdown",
      "source": [
        "1. Create a list called `myname` that contains the characters of your first name"
      ],
      "metadata": {
        "id": "TNpD9hmk4_N-"
      }
    },
    {
      "cell_type": "code",
      "source": [
        "# put your answer here\n",
        "myname = ['L','A','W','R','E','N','Z']"
      ],
      "metadata": {
        "id": "bpXg-iQt4-sQ"
      },
      "execution_count": 21,
      "outputs": []
    },
    {
      "cell_type": "code",
      "source": [
        "(myname)"
      ],
      "metadata": {
        "colab": {
          "base_uri": "https://localhost:8080/"
        },
        "id": "VY2qL5-cKrEU",
        "outputId": "52fc2b69-fae7-4fcf-b478-102c0007a641"
      },
      "execution_count": 22,
      "outputs": [
        {
          "output_type": "execute_result",
          "data": {
            "text/plain": [
              "['L', 'A', 'W', 'R', 'E', 'N', 'Z']"
            ]
          },
          "metadata": {},
          "execution_count": 22
        }
      ]
    },
    {
      "cell_type": "markdown",
      "source": [
        "2. Create a list called `mynumber` that contains all the numbers of your student number"
      ],
      "metadata": {
        "id": "iorlqXkq5FgY"
      }
    },
    {
      "cell_type": "code",
      "source": [
        "# put your answer here\n",
        "mynumber = [2,0,2,3,1,2,3,4,5,6]"
      ],
      "metadata": {
        "id": "JciPeaYr49B7"
      },
      "execution_count": 23,
      "outputs": []
    },
    {
      "cell_type": "code",
      "source": [
        "(mynumber)"
      ],
      "metadata": {
        "colab": {
          "base_uri": "https://localhost:8080/"
        },
        "id": "ex1oyWiMK6Jj",
        "outputId": "97e174c5-094b-4e80-cded-299ba280f941"
      },
      "execution_count": 24,
      "outputs": [
        {
          "output_type": "execute_result",
          "data": {
            "text/plain": [
              "[2, 0, 2, 3, 1, 2, 3, 4, 5, 6]"
            ]
          },
          "metadata": {},
          "execution_count": 24
        }
      ]
    },
    {
      "cell_type": "markdown",
      "source": [
        "3. Write a python function named `geteven()` that will:\n",
        "\n",
        "- Accept a list of your student number\n",
        "- Return a list with only even numbers\n",
        "\n",
        "-------------------------------------\n",
        "\n",
        "Example:\n",
        "\n",
        "mynumber = [2,0,2,3,1,2,3,4,5,6]\n",
        "\n",
        "geteven(mynumber)\n",
        "\n",
        "Output should be:\n",
        "\n",
        "[2,0,2,2,4,6]"
      ],
      "metadata": {
        "id": "yQ2wZKD-0X7_"
      }
    },
    {
      "cell_type": "code",
      "execution_count": 25,
      "metadata": {
        "id": "9HUAAC9h0Tu6",
        "colab": {
          "base_uri": "https://localhost:8080/"
        },
        "outputId": "c0ffb637-3cd4-4f88-9ea3-5369b0b386d7"
      },
      "outputs": [
        {
          "output_type": "execute_result",
          "data": {
            "text/plain": [
              "[2, 0, 2, 2, 4, 6]"
            ]
          },
          "metadata": {},
          "execution_count": 25
        }
      ],
      "source": [
        "# put your answer here\n",
        "(geteven(mynumber))"
      ]
    },
    {
      "cell_type": "markdown",
      "source": [
        "4. Write a python function named `reverseName()` that will:\n",
        "\n",
        "- Accept a list of your name\n",
        "- Return a list of your name in reverse order\n",
        "\n",
        "-------------------------------------\n",
        "\n",
        "Example:\n",
        "\n",
        "myname = ['E', 'L', 'I', 'Z', 'E', 'R']\n",
        "\n",
        "reverseName(myname)\n",
        "\n",
        "Output should be:\n",
        "\n",
        "['R', 'E', 'Z', 'I', 'L', 'E']"
      ],
      "metadata": {
        "id": "51HBYD8V0agR"
      }
    },
    {
      "cell_type": "code",
      "source": [
        "# put your answer here\n",
        "def reverseName(name):\n",
        "    return name[::-1]\n",
        "\n",
        "myname = ['L', 'A', 'W', 'R', 'E', 'N','Z']\n",
        "reverseName(myname)\n",
        "\n"
      ],
      "metadata": {
        "id": "cwtaNJcc0a1o",
        "colab": {
          "base_uri": "https://localhost:8080/"
        },
        "outputId": "57a97f45-f5bf-4cdf-acae-425d2f60b4d9"
      },
      "execution_count": 26,
      "outputs": [
        {
          "output_type": "execute_result",
          "data": {
            "text/plain": [
              "['Z', 'N', 'E', 'R', 'W', 'A', 'L']"
            ]
          },
          "metadata": {},
          "execution_count": 26
        }
      ]
    },
    {
      "cell_type": "markdown",
      "source": [
        "5. Write a python function named `countVowel()` that will:\n",
        "\n",
        "- Accept a list of your name\n",
        "- Return the number of vowels of your name in the list\n",
        "\n",
        "-------------------------------------\n",
        "\n",
        "Example:\n",
        "\n",
        "myname = ['E', 'L', 'I', 'Z', 'E', 'R']\n",
        "\n",
        "countVowel(myname)\n",
        "\n",
        "Output should be:\n",
        "\n",
        "3"
      ],
      "metadata": {
        "id": "z98DkSZj0bKE"
      }
    },
    {
      "cell_type": "code",
      "source": [
        "# put your answer here\n",
        "def countVowel(name):\n",
        "    vowels = ['A', 'E', 'I', 'O', 'U', 'a', 'e', 'i', 'o', 'u']\n",
        "    count = 0\n",
        "    for letter in name:\n",
        "        if letter in vowels:\n",
        "            count += 1\n",
        "    return count\n",
        "\n",
        "myname = ['L', 'A', 'W', 'R', 'E', 'N','Z']\n",
        "print(countVowel(myname))"
      ],
      "metadata": {
        "id": "djNZGq0P0bft",
        "colab": {
          "base_uri": "https://localhost:8080/"
        },
        "outputId": "633e4bbf-aca6-4232-fc57-3e1ead771d9b"
      },
      "execution_count": 27,
      "outputs": [
        {
          "output_type": "stream",
          "name": "stdout",
          "text": [
            "2\n"
          ]
        }
      ]
    },
    {
      "cell_type": "markdown",
      "source": [
        "## Farewell note\n",
        "\n",
        "It has been a pleasure to teach you this term even for a short period of time.\n",
        "\n",
        "I know that not all people like computer programming but please give it more time for you to find a place in your heart ❤️\n",
        "\n",
        "From my experience, people tend to learn skills when they need it and not when they want to. It is very hard to learn any skill if you do not have any use for it.\n",
        "\n",
        "The challenge for us educators is to show the next generation that programming is a very important skill and that the world needs people like you.\n",
        "\n",
        "Programming is a very fulfilling profession because you can solve the world's problems through your own creativity and passion.\n",
        "\n",
        "I hope that you can find your own purpose in life through programming and make our world a better place 🌎\n",
        "\n",
        "Your teacher,\n",
        "\n",
        "Elizer Ponio Jr."
      ],
      "metadata": {
        "id": "7YuM6TiO8Tsj"
      }
    }
  ]
}